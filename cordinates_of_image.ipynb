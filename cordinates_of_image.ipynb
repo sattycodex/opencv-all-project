{
 "cells": [
  {
   "cell_type": "code",
   "execution_count": 1,
   "id": "20b3fe49",
   "metadata": {},
   "outputs": [],
   "source": [
    "import numpy as np\n",
    "import cv2"
   ]
  },
  {
   "cell_type": "code",
   "execution_count": 2,
   "id": "d42bad70",
   "metadata": {},
   "outputs": [],
   "source": [
    "img=cv2.imread('image.jpg')\n",
    "img=cv2.resize(img,(500,500))\n",
    "cv2.imshow('image',img)\n",
    "cv2.waitKey(0)\n",
    "cv2.destroyAllWindows()"
   ]
  },
  {
   "cell_type": "code",
   "execution_count": 5,
   "id": "bab6bca2",
   "metadata": {},
   "outputs": [],
   "source": [
    "img=cv2.imread('image.jpg')\n",
    "img=cv2.resize(img,(500,500))\n",
    "cv2.imshow('image',img)\n",
    "def eventclick(event,x,y,flags,param):\n",
    "     if event == cv2.EVENT_LBUTTONDOWN:\n",
    "        font = cv2.FONT_HERSHEY_TRIPLEX\n",
    "        LB = \".({},{})\".format(x,y)\n",
    " \n",
    "        cv2.putText(img, LB, (x, y), \n",
    "                    font, 1, \n",
    "                    (255, 255, 0), \n",
    "                    2) \n",
    "        cv2.imshow('image', img)\n",
    "    \n",
    "    \n",
    "cv2.setMouseCallback('image', eventclick)\n",
    "cv2.waitKey(0)\n",
    "cv2.destroyAllWindows()\n"
   ]
  },
  {
   "cell_type": "code",
   "execution_count": null,
   "id": "fb2484f8",
   "metadata": {},
   "outputs": [],
   "source": []
  }
 ],
 "metadata": {
  "kernelspec": {
   "display_name": "Python 3",
   "language": "python",
   "name": "python3"
  },
  "language_info": {
   "codemirror_mode": {
    "name": "ipython",
    "version": 3
   },
   "file_extension": ".py",
   "mimetype": "text/x-python",
   "name": "python",
   "nbconvert_exporter": "python",
   "pygments_lexer": "ipython3",
   "version": "3.8.8"
  }
 },
 "nbformat": 4,
 "nbformat_minor": 5
}
