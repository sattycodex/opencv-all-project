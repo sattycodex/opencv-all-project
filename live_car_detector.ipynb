{
 "cells": [
  {
   "cell_type": "code",
   "execution_count": 2,
   "id": "0057fcbb",
   "metadata": {},
   "outputs": [],
   "source": [
    "import cv2"
   ]
  },
  {
   "cell_type": "code",
   "execution_count": 17,
   "id": "be416617",
   "metadata": {},
   "outputs": [],
   "source": [
    "\n",
    "face_cascade = cv2.CascadeClassifier(\"haarcascade_car.xml\")\n",
    " \n",
    "cap = cv2.VideoCapture(\"Traffic - 20581.mp4\")\n",
    " \n",
    "while True:\n",
    "     \n",
    "    respose, color_img = cap.read()\n",
    "     \n",
    "    gray_img = cv2.cvtColor(color_img, cv2.COLOR_BGR2GRAY)\n",
    "     \n",
    "    faces = face_cascade.detectMultiScale(gray_img,1.1,5)\n",
    "     \n",
    "    for (x, y, w, h) in faces:\n",
    "        cv2.rectangle(color_img, (x, y), (x+w, y+h), (0, 0, 255),5)\n",
    "        cv2.putText(color_img,'car',(x, y),cv2.FONT_HERSHEY_SIMPLEX, 1, 255,2,cv2.LINE_AA)\n",
    "   \n",
    "    cv2.imshow('img', color_img)\n",
    "     \n",
    "    if cv2.waitKey(1) & 0xFF == ord('q'):\n",
    "        break\n",
    " \n",
    "cap.release()\n",
    "cv2.destroyAllWindows()"
   ]
  },
  {
   "cell_type": "code",
   "execution_count": null,
   "id": "ecb08728",
   "metadata": {},
   "outputs": [],
   "source": []
  }
 ],
 "metadata": {
  "kernelspec": {
   "display_name": "Python 3",
   "language": "python",
   "name": "python3"
  },
  "language_info": {
   "codemirror_mode": {
    "name": "ipython",
    "version": 3
   },
   "file_extension": ".py",
   "mimetype": "text/x-python",
   "name": "python",
   "nbconvert_exporter": "python",
   "pygments_lexer": "ipython3",
   "version": "3.8.8"
  }
 },
 "nbformat": 4,
 "nbformat_minor": 5
}
