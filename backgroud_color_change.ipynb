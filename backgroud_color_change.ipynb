{
 "cells": [
  {
   "cell_type": "code",
   "execution_count": 1,
   "id": "50a43309",
   "metadata": {},
   "outputs": [],
   "source": [
    "import numpy as np\n",
    "import cv2\n",
    "import random"
   ]
  },
  {
   "cell_type": "code",
   "execution_count": 2,
   "id": "4beffdf0",
   "metadata": {},
   "outputs": [],
   "source": [
    "\n",
    "cap=cv2.VideoCapture(0)\n",
    "\n",
    "while True:\n",
    "    ret,frame=cap.read()\n",
    "    if ret==False:\n",
    "        break;\n",
    "    else :\n",
    "        frame=cv2.resize(frame,(0,0),fx=1.5,fy=1.5)\n",
    "        count=random.randint(0,3)\n",
    "        if count==1:\n",
    "            blue=frame.copy()\n",
    "            blue[:,:,2]=0\n",
    "            blue[:,:,1]=0\n",
    "        if count==2:\n",
    "            blue=frame.copy()\n",
    "            blue[:,:,0]=0\n",
    "            blue[:,:,1]=0\n",
    "            \n",
    "        if count==0:\n",
    "            blue=frame.copy()\n",
    "            blue[:,:,2]=0\n",
    "            blue[:,:,0]=0    \n",
    "            \n",
    "        cv2.imshow('video',blue)\n",
    "        if cv2.waitKey(1) & 0xff==ord('q'):\n",
    "            break\n",
    "\n",
    "cap.release()\n",
    "cv2.destroyAllWindows()     "
   ]
  },
  {
   "cell_type": "code",
   "execution_count": null,
   "id": "de5e8f21",
   "metadata": {},
   "outputs": [],
   "source": []
  }
 ],
 "metadata": {
  "kernelspec": {
   "display_name": "Python 3",
   "language": "python",
   "name": "python3"
  },
  "language_info": {
   "codemirror_mode": {
    "name": "ipython",
    "version": 3
   },
   "file_extension": ".py",
   "mimetype": "text/x-python",
   "name": "python",
   "nbconvert_exporter": "python",
   "pygments_lexer": "ipython3",
   "version": "3.8.8"
  }
 },
 "nbformat": 4,
 "nbformat_minor": 5
}
