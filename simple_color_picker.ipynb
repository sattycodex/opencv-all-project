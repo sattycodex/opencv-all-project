{
 "cells": [
  {
   "cell_type": "code",
   "execution_count": 1,
   "id": "32fbb445",
   "metadata": {},
   "outputs": [],
   "source": [
    "import numpy as np\n",
    "import cv2"
   ]
  },
  {
   "cell_type": "code",
   "execution_count": null,
   "id": "504864d2",
   "metadata": {},
   "outputs": [],
   "source": [
    "def nothing(x):\n",
    "    pass\n",
    "\n",
    "img=np.zeros((300,512,3),dtype=np.uint8) #create black image\n",
    "cv2.namedWindow('track')\n",
    "switch='0-OFF/1-ON'\n",
    "cv2.createTrackbar(switch,'track',0,1,nothing) #create trackbar of switch and red green and blue channel\n",
    "cv2.createTrackbar('blue','track',0,255,nothing)\n",
    "cv2.createTrackbar('green','track',0,255,nothing)\n",
    "cv2.createTrackbar('red','track',0,255,nothing)\n",
    "\n",
    "\n",
    "while (True):\n",
    "    cv2.imshow('track',img)\n",
    "    y=cv2.waitKey(1) & 0xFF\n",
    "    if y==27:\n",
    "        break\n",
    "\n",
    "    s=cv2.getTrackbarPos(switch,'track')\n",
    "    b=cv2.getTrackbarPos('blue','track')\n",
    "    g=cv2.getTrackbarPos('green','track')\n",
    "    r=cv2.getTrackbarPos('red','track')\n",
    "    \n",
    "    if s==0:                  #set value to 0 if s is not set\n",
    "        img[:]=0\n",
    "    else:                     \n",
    "        img[:]=[b,g,r]\n",
    "        \n",
    "    \n",
    "        \n",
    "cv2.destroyAllWindows()        "
   ]
  },
  {
   "cell_type": "code",
   "execution_count": null,
   "id": "6607ab3b",
   "metadata": {},
   "outputs": [],
   "source": []
  }
 ],
 "metadata": {
  "kernelspec": {
   "display_name": "Python 3",
   "language": "python",
   "name": "python3"
  },
  "language_info": {
   "codemirror_mode": {
    "name": "ipython",
    "version": 3
   },
   "file_extension": ".py",
   "mimetype": "text/x-python",
   "name": "python",
   "nbconvert_exporter": "python",
   "pygments_lexer": "ipython3",
   "version": "3.8.8"
  }
 },
 "nbformat": 4,
 "nbformat_minor": 5
}
